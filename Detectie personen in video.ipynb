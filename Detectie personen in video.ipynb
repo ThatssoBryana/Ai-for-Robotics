{
 "cells": [
  {
   "cell_type": "code",
   "execution_count": 192,
   "id": "f27cc338",
   "metadata": {},
   "outputs": [],
   "source": [
    "# Import libraries\n",
    "import os\n",
    "import cv2\n",
    "import numpy as np\n",
    "import matplotlib.pyplot as plt\n",
    "\n",
    "from zipfile import ZipFile\n",
    "from urllib.request import urlretrieve\n",
    "\n",
    "%matplotlib inline"
   ]
  },
  {
   "cell_type": "code",
   "execution_count": 193,
   "id": "d04e5f93",
   "metadata": {},
   "outputs": [],
   "source": [
    "import os\n",
    "from zipfile import ZipFile\n",
    "\n",
    "def extract_zip(zip_path, extraction_path):\n",
    "    print(f\"Extracting zip file....\", end=\"\")\n",
    "\n",
    "    try:\n",
    "        # Extracting zip file using the zipfile package.\n",
    "        with ZipFile(zip_path) as z:\n",
    "            # Extract ZIP file contents to the specified directory.\n",
    "            z.extractall(extraction_path)\n",
    "\n",
    "        print(\"Done\")\n",
    "\n",
    "    except Exception as e:\n",
    "        print(\"\\nInvalid file.\", e)"
   ]
  },
  {
   "cell_type": "code",
   "execution_count": 194,
   "id": "5ed11472",
   "metadata": {},
   "outputs": [
    {
     "name": "stdout",
     "output_type": "stream",
     "text": [
      "Extracting zip file....Done\n"
     ]
    }
   ],
   "source": [
    "asset_zip_path = os.path.join(os.getcwd(), \"securityCamVideos.zip\")\n",
    "output_directory = os.path.join(os.getcwd(), \"securityCamVideos\")\n",
    "\n",
    "# output folder\n",
    "os.makedirs(output_directory, exist_ok=True)\n",
    "\n",
    "# Call the extract_zip function\n",
    "extract_zip(asset_zip_path, output_directory)\n"
   ]
  },
  {
   "cell_type": "code",
   "execution_count": 195,
   "id": "786391ea",
   "metadata": {},
   "outputs": [],
   "source": [
    "classFile  = \"coco_class_labels.txt\""
   ]
  },
  {
   "cell_type": "code",
   "execution_count": 196,
   "id": "8ef30678",
   "metadata": {},
   "outputs": [
    {
     "name": "stdout",
     "output_type": "stream",
     "text": [
      "['unlabeled', 'person', 'bicycle', 'car', 'motorcycle', 'airplane', 'bus', 'train', 'truck', 'boat', 'traffic light', 'fire hydrant', 'street sign', 'stop sign', 'parking meter', 'bench', 'bird', 'cat', 'dog', 'horse', 'sheep', 'cow', 'elephant', 'bear', 'zebra', 'giraffe', 'hat', 'backpack', 'umbrella', 'shoe', 'eye glasses', 'handbag', 'tie', 'suitcase', 'frisbee', 'skis', 'snowboard', 'sports ball', 'kite', 'baseball bat', 'baseball glove', 'skateboard', 'surfboard', 'tennis racket', 'bottle', 'plate', 'wine glass', 'cup', 'fork', 'knife', 'spoon', 'bowl', 'banana', 'apple', 'sandwich', 'orange', 'broccoli', 'carrot', 'hot dog', 'pizza', 'donut', 'cake', 'chair', 'couch', 'potted plant', 'bed', 'mirror', 'dining table', 'window', 'desk', 'toilet', 'door', 'tv', 'laptop', 'mouse', 'remote', 'keyboard', 'cell phone', 'microwave', 'oven', 'toaster', 'sink', 'refrigerator', 'blender', 'book', 'clock', 'vase', 'scissors', 'teddy bear', 'hair drier', 'toothbrush', 'hair brush', '']\n"
     ]
    }
   ],
   "source": [
    "with open(classFile) as fp:\n",
    "    labels = fp.read().split(\"\\n\")\n",
    "\n",
    "print(labels)"
   ]
  },
  {
   "cell_type": "code",
   "execution_count": 197,
   "id": "b8c96f6b",
   "metadata": {},
   "outputs": [],
   "source": [
    "modelFile  = os.path.join(\"models\", \"ssd_mobilenet_v2_coco_2018_03_29\", \"frozen_inference_graph.pb\")\n",
    "configFile = os.path.join(\"models\", \"ssd_mobilenet_v2_coco_2018_03_29.pbtxt\")"
   ]
  },
  {
   "cell_type": "code",
   "execution_count": 198,
   "id": "9c290ebc",
   "metadata": {},
   "outputs": [],
   "source": [
    "# Read the Tensorflow network\n",
    "net = cv2.dnn.readNetFromTensorflow(modelFile, configFile)"
   ]
  },
  {
   "cell_type": "code",
   "execution_count": 199,
   "id": "b309f41c",
   "metadata": {},
   "outputs": [],
   "source": [
    "\n",
    "def detect_objects_in_video(video_path, net, labels, dim=300):\n",
    "    cap = cv2.VideoCapture(video_path)\n",
    "    if not cap.isOpened():\n",
    "        print(f\"Error: Could not open video {video_path}\")\n",
    "        return\n",
    "\n",
    "    fourcc = cv2.VideoWriter_fourcc(*'XVID')\n",
    "    out = None\n",
    "\n",
    "    person_detected = False  # als er een persoon is of niet\n",
    "\n",
    "    while cap.isOpened():\n",
    "        ret, frame = cap.read()\n",
    "        if not ret:\n",
    "            break\n",
    "\n",
    "        objects = detect_objects(net, frame, dim)\n",
    "\n",
    "        # detectie\n",
    "        for detection in objects[0,0,:,:]:\n",
    "            score = float(detection[2])\n",
    "            class_id = int(detection[1])\n",
    "            if score > 0.5 and labels[class_id] == 'person':\n",
    "                if not person_detected:\n",
    "                    person_detected = True\n",
    "                    out = cv2.VideoWriter(video_path.replace('.avi', '_detected.avi'), fourcc, 20.0, (int(cap.get(3)), int(cap.get(4))))\n",
    "\n",
    "                left = int(detection[3] * frame.shape[1])\n",
    "                top = int(detection[4] * frame.shape[0])\n",
    "                right = int(detection[5] * frame.shape[1])\n",
    "                bottom = int(detection[6] * frame.shape[0])\n",
    "\n",
    "                # kader rond persoon\n",
    "                cv2.rectangle(frame, (left, top), (right, bottom), (255, 0, 255), thickness=10)\n",
    "                label = f\"{labels[class_id]}: {score:.2f}\"\n",
    "                cv2.putText(frame, label, (left, top-5), cv2.FONT_HERSHEY_SIMPLEX, 0.5, (0,255,0), 1)\n",
    "\n",
    "        if person_detected:\n",
    "            out.write(frame)\n",
    "\n",
    "    cap.release()\n",
    "    if out is not None:\n",
    "        out.release()"
   ]
  },
  {
   "cell_type": "code",
   "execution_count": null,
   "id": "5a806979",
   "metadata": {},
   "outputs": [
    {
     "name": "stdout",
     "output_type": "stream",
     "text": [
      "Processing 202402271732.avi...\n",
      "Processing 202403011343.avi...\n",
      "Processing 202403011345.avi...\n",
      "Processing 202403011346.avi...\n",
      "Processing 202403011347.avi...\n",
      "Processing 202403011348.avi...\n",
      "Processing 202403011349.avi...\n",
      "Processing 202403011350.avi...\n",
      "Processing 202403011351.avi...\n",
      "Processing 202403011352.avi...\n",
      "Processing 202403011353.avi...\n",
      "Processing 202403011354.avi...\n",
      "Processing 202403011355.avi...\n",
      "Processing 202403011356.avi...\n",
      "Processing 202403011357.avi...\n",
      "Processing 202403011358.avi...\n",
      "Processing 202403011359.avi...\n",
      "Processing 202403011409.avi...\n",
      "Processing 202403011415.avi...\n",
      "Processing 202403011416.avi...\n",
      "Processing 202403011417.avi...\n",
      "Processing 202403011418.avi...\n",
      "Processing 202403011419.avi...\n",
      "Processing 202403011420.avi...\n",
      "Processing 202403011421.avi...\n",
      "Processing 202403011425.avi...\n",
      "Processing 202403011426.avi...\n",
      "Processing 202403011427.avi...\n",
      "Processing 202403011429.avi...\n",
      "Processing 202403011447.avi...\n",
      "Processing 202403011449.avi...\n",
      "Processing 202403011451.avi...\n",
      "Processing 202403011457.avi...\n",
      "Processing 202403011458.avi...\n",
      "Processing 202403011459.avi...\n",
      "Processing 202403011501.avi...\n",
      "Processing 202403011502.avi...\n",
      "Processing 202403011503.avi...\n",
      "Processing 202403011504.avi...\n",
      "Processing 202403011507.avi...\n",
      "Processing 202403011518.avi...\n",
      "Processing 202403011519.avi...\n",
      "Processing 202403011520.avi...\n",
      "Processing 202403011521.avi...\n",
      "Processing 202403011523.avi...\n",
      "Processing 202403011524.avi...\n",
      "Processing 202403011525.avi...\n",
      "Processing 202403011526.avi...\n",
      "Processing 202403011528.avi...\n",
      "Processing 202403011529.avi...\n",
      "Processing 202403011530.avi...\n",
      "Processing 202403011532.avi...\n",
      "Processing 202403011539.avi...\n",
      "Processing 202403011540.avi...\n",
      "Processing 202403011542.avi...\n",
      "Processing 202403011543.avi...\n",
      "Processing 202403011544.avi...\n",
      "Processing 202403011546.avi...\n",
      "Processing 202403011552.avi...\n",
      "Processing 202403011558.avi...\n",
      "Processing 202403011559.avi...\n",
      "Processing 202403011601.avi...\n",
      "Processing 202403011604.avi...\n",
      "Processing 202403011605.avi...\n",
      "Processing 202403011606.avi...\n",
      "Processing 202403011607.avi...\n"
     ]
    }
   ],
   "source": [
    "video_directory = r\"C:\\Users\\Bryan\\Documents\\EHB\\AI for robotics\\securityCamVideos\"\n",
    "for video_file in os.listdir(video_directory):\n",
    "    video_path = os.path.join(video_directory, video_file)\n",
    "    if video_path.endswith(\".avi\"):\n",
    "        print(f\"Processing {video_file}...\")\n",
    "        detect_objects_in_video(video_path, net, labels)"
   ]
  },
  {
   "cell_type": "code",
   "execution_count": null,
   "id": "4e320efa",
   "metadata": {},
   "outputs": [],
   "source": []
  }
 ],
 "metadata": {
  "kernelspec": {
   "display_name": "Python 3 (ipykernel)",
   "language": "python",
   "name": "python3"
  },
  "language_info": {
   "codemirror_mode": {
    "name": "ipython",
    "version": 3
   },
   "file_extension": ".py",
   "mimetype": "text/x-python",
   "name": "python",
   "nbconvert_exporter": "python",
   "pygments_lexer": "ipython3",
   "version": "3.11.5"
  }
 },
 "nbformat": 4,
 "nbformat_minor": 5
}
